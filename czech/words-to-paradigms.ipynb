{
 "metadata": {
  "name": "words-to-paradigms"
 },
 "nbformat": 3,
 "nbformat_minor": 0,
 "worksheets": [
  {
   "cells": [
    {
     "cell_type": "heading",
     "level": 1,
     "metadata": {},
     "source": [
      "Preparing data from the Czech National Corpus for IPa analysis"
     ]
    },
    {
     "cell_type": "markdown",
     "metadata": {},
     "source": [
      "This notebook takes the tagged list of Czech nouns from the syn2010 corpus of the Czech National Corpus (kindly supplied by Michal Kren) and tabulates paradigms, as a first step before carrying out analyses.\n",
      "\n",
      "The input list is in the file \"substantiva_syn2010\".\n",
      "\n",
      "The tagset is described here: http://korpus.cz/bonito/znacky.php\n"
     ]
    },
    {
     "cell_type": "code",
     "collapsed": false,
     "input": [
      "import pandas as pd\n",
      "import numpy as np"
     ],
     "language": "python",
     "metadata": {},
     "outputs": [],
     "prompt_number": 1
    },
    {
     "cell_type": "markdown",
     "metadata": {},
     "source": [
      "We make a list of the tags that we will need for future reference:"
     ]
    },
    {
     "cell_type": "code",
     "collapsed": false,
     "input": [
      "the_tags = [x+str(y) for x in ['S','P'] for y in range(1,8)]\n"
     ],
     "language": "python",
     "metadata": {},
     "outputs": [],
     "prompt_number": 2
    },
    {
     "cell_type": "markdown",
     "metadata": {},
     "source": [
      "First we open the file:"
     ]
    },
    {
     "cell_type": "code",
     "collapsed": false,
     "input": [
      "data_file = open('./substantiva_syn2010')\n"
     ],
     "language": "python",
     "metadata": {},
     "outputs": [],
     "prompt_number": 3
    },
    {
     "cell_type": "heading",
     "level": 2,
     "metadata": {},
     "source": [
      "Selecting appropriate data"
     ]
    },
    {
     "cell_type": "markdown",
     "metadata": {},
     "source": [
      "First order of business is to \n",
      "\n",
      "1. Select only nouns by dropping anything with a capitalized lemma or a suspicious looking tag\n",
      "2. Lowercase all forms, simplify the tags to number+case, treat frequency as an integer.\n",
      "\n",
      "We store the result in a list of lists called **data**"
     ]
    },
    {
     "cell_type": "code",
     "collapsed": false,
     "input": [
      "data =[]\n",
      "for line in data_file:\n",
      "    items=(line.rstrip()).split('\\t')\n",
      "    if items[2].islower() and items[3][3:5] in the_tags:\n",
      "        data.append([int(items[0]),items[1].lower(),items[2],items[3][3:5]])"
     ],
     "language": "python",
     "metadata": {},
     "outputs": [],
     "prompt_number": 4
    },
    {
     "cell_type": "markdown",
     "metadata": {},
     "source": [
      "Turn this into a pandas DataFrame"
     ]
    },
    {
     "cell_type": "code",
     "collapsed": false,
     "input": [
      "data = pd.DataFrame(data,columns=['freq','form','lemma','tag'])"
     ],
     "language": "python",
     "metadata": {},
     "outputs": [],
     "prompt_number": 5
    },
    {
     "cell_type": "markdown",
     "metadata": {},
     "source": [
      "We now have multiple lines with the same form in cases where the initial data contained both capitalized and uncapitalized versions of a form. To deal with this:\n",
      "\n",
      "1. We first group the data by form, lemma and tag\n",
      "2. Then we aggregate duplicate lines, summing the frequencies"
     ]
    },
    {
     "cell_type": "code",
     "collapsed": false,
     "input": [
      "data = data.groupby(['form','lemma','tag'],as_index=False)\n",
      "data = data.agg(np.sum)"
     ],
     "language": "python",
     "metadata": {},
     "outputs": [],
     "prompt_number": 6
    },
    {
     "cell_type": "heading",
     "level": 2,
     "metadata": {},
     "source": [
      "Dealing with overabundance"
     ]
    },
    {
     "cell_type": "markdown",
     "metadata": {},
     "source": [
      "Now we want to deal with overabundance. The format of a paradigm cell will be a list of pairs \"form:freq\" separated by semicolons.\n",
      "\n",
      "1. First we create a new column combining form and frequency\n",
      "2. Then we group rows by lemma and tag\n",
      "3. Finally we aggregate the form/frequency pairs"
     ]
    },
    {
     "cell_type": "code",
     "collapsed": false,
     "input": [
      "data['formfreq']= data['form']+':'+ data['freq'].apply(str)\n",
      "del data['form']\n",
      "del data['freq']\n",
      "data = data.groupby(['lemma','tag'],as_index=False)\n",
      "data = data.agg(lambda l:';'.join(l))"
     ],
     "language": "python",
     "metadata": {},
     "outputs": [],
     "prompt_number": 7
    },
    {
     "cell_type": "markdown",
     "metadata": {},
     "source": [
      "We need to deal with a small complication. The data contains not only overabundant cells, but also orthographic variants.\n",
      "\n",
      "* An example of an overabundant cell is the GEN.SG of *analyz\u00e1tor*, which is listed as both *analyz\u00e1tora* and *analyz\u00e1toru*. This is a morphologically significant fact: this lexeme hesitates between the two major strategies for forming the GEN.SG of hars masculine nouns.\n",
      "* An example of orthographic variants is the GEN.SG of *aktualizace*, which is listed as both *aktualisace* and *aktualizace*. Notice that the CNK lexicon lists these under a single citation form. This is **not** a morphologically significant fact: clearly ther is hesitation between two stems rather than two inflection strategies.\n",
      "\n",
      "There is no fully satisfactory way of dealing with this situation without heavy manual editing. What we do here is rely on the fact that overabundance always targets the suffixal exponents, whereas orthographic variation targets stem internal material. Thus we normalize the data in the following way:\n",
      "\n",
      "* If a cell contains multiple forms with different final segments, we keep these as distinct.\n",
      "* If a cell contains multiple forms with the same final segment, we keep only the segment with the shortest Levensthein distance to the lemma.\n",
      "\n",
      "This is doubly unsatisfactory. First, there may be situations where an overabundant cell actually relies on two exponents that share the same final segment. We just happen to suspect that this is unlikely in Czech nominal declension. Second, there may be cases where the lemma uses variant A of the stem, some cell $c$ uses both variant A and variant B, and some other cell $c'$ uses only variant B. The present strategy will not catch this and still list variant B for cell $c'$.\n",
      "\n",
      "One can hope that these situations will be caught at the next step, when analyzing by hand the inflection classes generated from the paradigms."
     ]
    },
    {
     "cell_type": "code",
     "collapsed": false,
     "input": [
      "def levenshtein(a,b):\n",
      "    \"Calculates the Levenshtein distance between a and b.\"\n",
      "    n, m = len(a), len(b)\n",
      "    if n > m:\n",
      "        # Make sure n <= m, to use O(min(n,m)) space\n",
      "        a,b = b,a\n",
      "        n,m = m,n\n",
      "    current = range(n+1)\n",
      "    for i in range(1,m+1):\n",
      "        previous, current = current, [i]+[0]*n\n",
      "        for j in range(1,n+1):\n",
      "            add, delete = previous[j]+1, current[j-1]+1\n",
      "            change = previous[j-1]\n",
      "            if a[j-1] != b[i-1]:\n",
      "                change = change + 1\n",
      "            current[j] = min(add, delete, change)\n",
      "    return current[n]\n",
      "\n",
      "def partition_by_ending(lst,length=1):\n",
      "    \"\"\"Partitions a list of form:frequency pairs on the basis of shared final \n",
      "        segments. Argument length gives the number of segments to consider.\"\"\"\n",
      "    res = {}\n",
      "    freq = {}\n",
      "    for item in lst:\n",
      "        ending = item.split(':')[0][-length:]\n",
      "        if ending in res:\n",
      "            res[ending].append(item)\n",
      "        else:\n",
      "            res[ending]=[item]\n",
      "    return list(res.values())\n",
      "\n",
      "for row in data.index:\n",
      "        lemma = data.loc[row,'lemma']\n",
      "        items = data.loc[row,'formfreq'].split(';')\n",
      "        if len(items)>1:\n",
      "            newlist = []\n",
      "            p = partition_by_ending(items,2)\n",
      "            for cell in p:\n",
      "                normalized_form  = cell[0].split(':')[0]\n",
      "                cum_freq  = int(cell[0].split(':')[1])\n",
      "                for pair in cell[1:]:\n",
      "                    (this_form,this_freq) = pair.split(':')\n",
      "                    cum_freq+=int(this_freq)\n",
      "                    if levenshtein(normalized_form,lemma) > levenshtein(this_form,lemma):\n",
      "                        normalized_form = this_form\n",
      "                newlist.append(normalized_form+':'+str(cum_freq))\n",
      "            data.loc[row,'formfreq'] = ';'.join(newlist)\n",
      "#            if len(newlist)>1:\n",
      "#                print(lemma,data.loc[row,'tag'],data.loc[row,'formfreq'],sep='\\t')\n",
      "                        "
     ],
     "language": "python",
     "metadata": {},
     "outputs": [],
     "prompt_number": 8
    },
    {
     "cell_type": "heading",
     "level": 2,
     "metadata": {},
     "source": [
      "From forms to paradigms"
     ]
    },
    {
     "cell_type": "markdown",
     "metadata": {},
     "source": [
      "Now we want to go from a format with one row per (lemma,tag) pair to a format with one row per lemma. This is easily done with the pivot method. "
     ]
    },
    {
     "cell_type": "code",
     "collapsed": false,
     "input": [
      "data=data.pivot(index='lemma',columns='tag',values='formfreq')"
     ],
     "language": "python",
     "metadata": {},
     "outputs": [],
     "prompt_number": 9
    },
    {
     "cell_type": "heading",
     "level": 2,
     "metadata": {},
     "source": [
      "Generating output"
     ]
    },
    {
     "cell_type": "markdown",
     "metadata": {},
     "source": [
      "The final step is to write to file:\n",
      "\n",
      "1. We reindex the DataFrame so that columns appear in the expected order\n",
      "2. We write to a csv file using more intuitive column names"
     ]
    },
    {
     "cell_type": "code",
     "collapsed": false,
     "input": [
      "data = data.reindex(columns=the_tags)\n",
      "def new_col(s):\n",
      "    number = {'S':'SG','P':'PL'}\n",
      "    case = {'1':'NOM','2':'GEN','3':'DAT','4':'ACC','5':'VOC','6':'LOC','7':'INS'}\n",
      "    return number[s[0]]+'.'+case[s[1]]\n",
      "\n",
      "new_col_dict = {}\n",
      "for t in the_tags:\n",
      "    new_col_dict[t]=new_col(t)\n",
      "        \n",
      "data=data.rename(columns=new_col_dict)\n",
      "data.to_csv('./substantiva.pdgm.csv')"
     ],
     "language": "python",
     "metadata": {},
     "outputs": [],
     "prompt_number": 10
    }
   ],
   "metadata": {}
  }
 ]
}